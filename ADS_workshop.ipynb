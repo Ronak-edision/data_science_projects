{
 "cells": [
  {
   "cell_type": "markdown",
   "metadata": {},
   "source": [
    "<h3>1.\tWrite a Python program to find those numbers which are divisible by 7 and multiple of 5, between 1000 and 2000 (both included).</h3>"
   ]
  },
  {
   "cell_type": "code",
   "execution_count": 2,
   "metadata": {},
   "outputs": [
    {
     "name": "stdout",
     "output_type": "stream",
     "text": [
      "1015 1050 1085 1120 1155 1190 1225 1260 1295 1330 1365 1400 1435 1470 1505 1540 1575 1610 1645 1680 1715 1750 1785 1820 1855 1890 1925 1960 1995 "
     ]
    }
   ],
   "source": [
    "for i in range(1000,2000):\n",
    "    if (i%7==0 and i%5==0):\n",
    "        print(i,end=\" \")\n"
   ]
  },
  {
   "cell_type": "code",
   "execution_count": 6,
   "metadata": {},
   "outputs": [
    {
     "ename": "ValueError",
     "evalue": "invalid literal for int() with base 10: ''",
     "output_type": "error",
     "traceback": [
      "\u001b[1;31m---------------------------------------------------------------------------\u001b[0m",
      "\u001b[1;31mValueError\u001b[0m                                Traceback (most recent call last)",
      "Cell \u001b[1;32mIn[6], line 7\u001b[0m\n\u001b[0;32m      5\u001b[0m     \u001b[38;5;28mprint\u001b[39m(\u001b[38;5;124mf\u001b[39m\u001b[38;5;124m\"\u001b[39m\u001b[38;5;124mthe temp in fahrenheit is \u001b[39m\u001b[38;5;132;01m{\u001b[39;00mf\u001b[38;5;132;01m}\u001b[39;00m\u001b[38;5;124m\"\u001b[39m)\n\u001b[0;32m      6\u001b[0m \u001b[38;5;28;01melse\u001b[39;00m:\n\u001b[1;32m----> 7\u001b[0m     f\u001b[38;5;241m=\u001b[39m \u001b[38;5;28mint\u001b[39m(\u001b[38;5;28minput\u001b[39m(\u001b[38;5;124m\"\u001b[39m\u001b[38;5;124mwaht is the temp in fahrenheit?\u001b[39m\u001b[38;5;124m\"\u001b[39m))\n\u001b[0;32m      8\u001b[0m     c\u001b[38;5;241m=\u001b[39m(f\u001b[38;5;241m-\u001b[39m\u001b[38;5;241m32\u001b[39m)\u001b[38;5;241m/\u001b[39m\u001b[38;5;241m9\u001b[39m\u001b[38;5;241m*\u001b[39m\u001b[38;5;241m5\u001b[39m\n\u001b[0;32m      9\u001b[0m     \u001b[38;5;28mprint\u001b[39m(\u001b[38;5;124mf\u001b[39m\u001b[38;5;124m\"\u001b[39m\u001b[38;5;124mthe temp in celcius is \u001b[39m\u001b[38;5;132;01m{\u001b[39;00mc\u001b[38;5;132;01m}\u001b[39;00m\u001b[38;5;124m\"\u001b[39m)\n",
      "\u001b[1;31mValueError\u001b[0m: invalid literal for int() with base 10: ''"
     ]
    }
   ],
   "source": [
    "a= input(\"would you like to convert celcius or fahrenheit\")\n",
    "if (a==\"celsius\"):\n",
    "    c= int(input(\"waht is the temp in celsius?\"))\n",
    "    f= (9*c/5)+32\n",
    "    print(f\"the temp in fahrenheit is {f}\")\n",
    "else:\n",
    "    f= int(input(\"waht is the temp in fahrenheit?\"))\n",
    "    c=(f-32)/9*5\n",
    "    print(f\"the temp in celcius is {c}\")\n"
   ]
  },
  {
   "cell_type": "code",
   "execution_count": 1,
   "metadata": {},
   "outputs": [
    {
     "ename": "ValueError",
     "evalue": "invalid literal for int() with base 10: ''",
     "output_type": "error",
     "traceback": [
      "\u001b[1;31m---------------------------------------------------------------------------\u001b[0m",
      "\u001b[1;31mValueError\u001b[0m                                Traceback (most recent call last)",
      "Cell \u001b[1;32mIn[1], line 5\u001b[0m\n\u001b[0;32m      3\u001b[0m \u001b[38;5;28;01mwhile\u001b[39;00m \u001b[38;5;28;01mTrue\u001b[39;00m:\n\u001b[0;32m      4\u001b[0m     c\u001b[38;5;241m=\u001b[39m\u001b[38;5;28minput\u001b[39m(\u001b[38;5;124m\"\u001b[39m\u001b[38;5;124mPlease guess the number between 1 to 9\u001b[39m\u001b[38;5;124m\"\u001b[39m)\n\u001b[1;32m----> 5\u001b[0m     d\u001b[38;5;241m=\u001b[39m\u001b[38;5;28mint\u001b[39m(c)\n\u001b[0;32m      6\u001b[0m     b\u001b[38;5;241m=\u001b[39mrandom\u001b[38;5;241m.\u001b[39mrandint(\u001b[38;5;241m1\u001b[39m,\u001b[38;5;241m9\u001b[39m)\n\u001b[0;32m      7\u001b[0m     \u001b[38;5;28;01mif\u001b[39;00m (d\u001b[38;5;241m==\u001b[39mb):\n",
      "\u001b[1;31mValueError\u001b[0m: invalid literal for int() with base 10: ''"
     ]
    }
   ],
   "source": [
    "import random\n",
    "\n",
    "while True:\n",
    "    c=input(\"Please guess the number between 1 to 9\")\n",
    "    d=int(c)\n",
    "    b=random.randint(1,9)\n",
    "    if (d==b):\n",
    "        print(\"successful guess\")\n",
    "\n",
    "    else:\n",
    "        print(\"You are dumb\")"
   ]
  },
  {
   "cell_type": "code",
   "execution_count": 21,
   "metadata": {},
   "outputs": [
    {
     "name": "stdout",
     "output_type": "stream",
     "text": [
      "*\n",
      "**\n",
      "***\n",
      "****\n",
      "*****\n",
      "*\n",
      "*\n",
      "*\n",
      "*\n"
     ]
    }
   ],
   "source": [
    "a=5\n",
    "b=\"*\"\n",
    "c=0\n",
    "d=[]\n",
    "for i in range(1,10):\n",
    "    \n",
    "    for j in range(i-c):\n",
    "        if i>=(5):\n",
    "            c+=1  \n",
    "\n",
    "        print(b, end='')\n",
    "        \n",
    "    print(\"\")"
   ]
  },
  {
   "cell_type": "code",
   "execution_count": 22,
   "metadata": {},
   "outputs": [
    {
     "name": "stdout",
     "output_type": "stream",
     "text": [
      "the next date is 32-04-2019\n"
     ]
    }
   ],
   "source": [
    "#print(\"good day\")\n",
    "take_date = input(\"Enter a date in dd-mm-yyyy format\")\n",
    "if len(take_date)==10 and take_date[2]==\"-\" and take_date[5]==\"-\" and int(take_date[:2])<=31 and int(take_date[3:5])<=12:\n",
    "    \n",
    "    if int(take_date[-4:]) %4 ==0 and int(take_date[3:5])==2 and int(take_date[:2])==29:\n",
    "        new_date=\"01-\"+\"03-\"+take_date[-4:]\n",
    "        print(new_date)\n",
    "    else:\n",
    "        if (int(take_date[3:5])<=12 and int(take_date[3:5])%2 !=0): # odd months\n",
    "            if (int(take_date[:2])==31): #change of months \n",
    "\n",
    "                month = int(take_date[3:5]) \n",
    "                year = take_date[6:10] \n",
    "                month = month + 1 if month < 12 else 1\n",
    "                month_str = str(month).zfill(2)\n",
    "                new_date = \"01-\" + month_str + \"-\" + year \n",
    "                \n",
    "                print(\"the next date is \"+new_date)\n",
    "            else: # change of only days\n",
    "                new_day=int(take_date[:2])+1\n",
    "                day_str=str(new_day).zfill(2)\n",
    "                new_date=day_str+take_date[2:10]\n",
    "                print(\"the next date is \"+new_date)\n",
    "        else:\n",
    "            if (int(take_date[:2])==30): #change of months \n",
    "\n",
    "                month = int(take_date[3:5]) \n",
    "                year = take_date[6:10] \n",
    "                month = month + 1 if month < 12 else 1\n",
    "                month_str = str(month).zfill(2)\n",
    "                new_date = \"01-\" + month_str + \"-\" + year \n",
    "                \n",
    "                print(\"the next date is \"+new_date)\n",
    "            else: # change of only days\n",
    "                new_day=int(take_date[:2])+1\n",
    "                day_str=str(new_day).zfill(2)\n",
    "                new_date=day_str+take_date[2:10]\n",
    "                print(\"the next date is \"+new_date)\n",
    "\n",
    "else:\n",
    "    print(\"wrong format\")\n",
    "    \n"
   ]
  },
  {
   "cell_type": "code",
   "execution_count": 11,
   "metadata": {},
   "outputs": [
    {
     "data": {
      "text/plain": [
       "'onak'"
      ]
     },
     "execution_count": 11,
     "metadata": {},
     "output_type": "execute_result"
    }
   ],
   "source": [
    "a=\"shrestharonak\"\n",
    "a[-4:]"
   ]
  },
  {
   "cell_type": "code",
   "execution_count": 23,
   "metadata": {},
   "outputs": [
    {
     "name": "stdout",
     "output_type": "stream",
     "text": [
      "the next date is 01-01-2022\n"
     ]
    }
   ],
   "source": [
    "\n",
    "def next_day(take_date):\n",
    "    check_return=check_date_validity(take_date)\n",
    "    if check_return ==\"add_normal_day\":\n",
    "        new_date=add_next_day(\"add_normal_day\",take_date)\n",
    "    \n",
    "    elif check_return==\"end_month_feb\":\n",
    "        new_date=add_next_day(\"end_month_feb\",take_date)\n",
    "\n",
    "    elif check_return==\"end_month_even\":\n",
    "        new_date=add_next_day(\"end_month_even\",take_date)\n",
    "\n",
    "    elif check_return==\"end_month_odd\":\n",
    "        new_date=add_next_day(\"end_month_odd\",take_date)\n",
    "    elif check_return==\"end_year\":\n",
    "        new_date=add_next_day(\"end_year\",take_date)\n",
    "    else:\n",
    "        print(check_return)\n",
    "    print(\"the next date is \"+new_date)\n",
    "\n",
    "def check_date_validity(take_date):\n",
    "    if len(take_date)==10 and take_date[2]==\"-\" and take_date[5]==\"-\"  and int(take_date[3:5])<=12  and int(take_date[:1])<=31 and int(take_date[3:5]) >= 0 and int(take_date[:1]) >= 0 :#check date format\n",
    "        if int(take_date[-4:])%4 ==0:\n",
    "            leap_year=True\n",
    "        if int(take_date[3:5]) ==2 and int(take_date[:1])<=29:\n",
    "            if int(take_date[:1])==29 and leap_year is False:\n",
    "                return (\"wrong date format for februery. is not leap year\")\n",
    "            else:\n",
    "                if int(take_date[:1])==29 and leap_year is True:\n",
    "                    return \"end_month_feb\"\n",
    "                else: \n",
    "                    return \"add_normal_day\" \n",
    "        \n",
    "        elif int(take_date[3:5]) ==12 and int(take_date[:1])<=31:\n",
    "            return \"end_year\"\n",
    "            \n",
    "        elif int(take_date[3:5])%2==0 and int(take_date[:1])<=30 :\n",
    "            if int(take_date[:1]==30):\n",
    "                return \"end_month_even\"\n",
    "            else:\n",
    "                return \"add_normal_day\"\n",
    "        elif int(take_date[3:5])%2!=0 and int(take_date[:1])<=31 :\n",
    "            if int(take_date[:1]==30):\n",
    "                return \"end_month_odd\"\n",
    "            else:\n",
    "                return \"add_normal_day\"\n",
    "    else:\n",
    "        return \"provided date in wrong format\"\n",
    "\n",
    "def add_next_day(status,take_date):\n",
    "    if status==\"add_normal_day\":\n",
    "        new_day=int(take_date[:2])+1\n",
    "        day_str=str(new_day).zfill(2)\n",
    "        new_date=day_str+take_date[2:10]\n",
    "        return new_date\n",
    "    \n",
    "    elif status==\"end_year\":\n",
    "        new_year=int(take_date[-4:])+1\n",
    "        str_year=str(new_year)\n",
    "        new_date= \"01-\"+\"01-\"+str_year\n",
    "        return new_date\n",
    "    else:\n",
    "        month = int(take_date[3:5]) \n",
    "        year = take_date[6:10] \n",
    "        month = month + 1 if month < 12 else 1\n",
    "        month_str = str(month).zfill(2)\n",
    "        new_date = \"01-\" + month_str + \"-\" + year \n",
    "        return new_date\n",
    "\n",
    "next_day(take_date = input(\"Enter a date in dd-mm-yyyy format\"))\n",
    "\n"
   ]
  },
  {
   "cell_type": "code",
   "execution_count": 2,
   "metadata": {},
   "outputs": [
    {
     "name": "stdout",
     "output_type": "stream",
     "text": [
      "4*1=4\n",
      "4*2=8\n",
      "4*3=12\n",
      "4*4=16\n",
      "4*5=20\n",
      "4*6=24\n",
      "4*7=28\n",
      "4*8=32\n",
      "4*9=36\n",
      "4*10=40\n"
     ]
    }
   ],
   "source": [
    "for i in range (1,11):\n",
    "    print(f\"4*{i}={4*i}\")"
   ]
  },
  {
   "cell_type": "markdown",
   "metadata": {},
   "source": [
    "<h1>Week 4- Workshop</h1>"
   ]
  },
  {
   "cell_type": "code",
   "execution_count": 2,
   "metadata": {},
   "outputs": [
    {
     "data": {
      "text/plain": [
       "array([ 6,  8, 10, 12])"
      ]
     },
     "execution_count": 2,
     "metadata": {},
     "output_type": "execute_result"
    }
   ],
   "source": [
    "import numpy as np\n",
    "#1.\tElement-wise addition of 2 numpy arrays\n",
    "a =np.array([1,2,3,4])\n",
    "b=np.array([5,6,7,8])\n",
    "a+b"
   ]
  },
  {
   "cell_type": "code",
   "execution_count": 4,
   "metadata": {},
   "outputs": [
    {
     "data": {
      "text/plain": [
       "array([ 5, 10, 15, 20])"
      ]
     },
     "execution_count": 4,
     "metadata": {},
     "output_type": "execute_result"
    }
   ],
   "source": [
    "#2.\tMultiply Matrix by a scalar.\n",
    "a =np.array([1,2,3,4])\n",
    "b=a*5\n",
    "b"
   ]
  },
  {
   "cell_type": "code",
   "execution_count": 15,
   "metadata": {},
   "outputs": [
    {
     "data": {
      "text/plain": [
       "array([[1., 0., 0., 0.],\n",
       "       [0., 1., 0., 0.],\n",
       "       [0., 0., 1., 0.],\n",
       "       [0., 0., 0., 1.]])"
      ]
     },
     "execution_count": 15,
     "metadata": {},
     "output_type": "execute_result"
    }
   ],
   "source": [
    "#3.\tCreate an Identity matrix.\n",
    "identity_matrix=np.eye(4)\n",
    "identity_matrix"
   ]
  },
  {
   "cell_type": "code",
   "execution_count": 18,
   "metadata": {},
   "outputs": [
    {
     "data": {
      "text/plain": [
       "array([[[1, 2, 3]],\n",
       "\n",
       "       [[4, 5, 6]],\n",
       "\n",
       "       [[7, 8, 9]]])"
      ]
     },
     "execution_count": 18,
     "metadata": {},
     "output_type": "execute_result"
    }
   ],
   "source": [
    "#4.\tConvert 1D array to 3D array.\n",
    "a=np.array([1,2,3,4,5,6,7,8,9])\n",
    "a.reshape(3,1,3)"
   ]
  },
  {
   "cell_type": "code",
   "execution_count": 24,
   "metadata": {},
   "outputs": [
    {
     "data": {
      "text/plain": [
       "dtype('int32')"
      ]
     },
     "execution_count": 24,
     "metadata": {},
     "output_type": "execute_result"
    }
   ],
   "source": [
    "#5.\tWrite a python code to convert data type from float to integer.\n",
    "a=np.array([1,2,3,4,5,6,7,8,9],dtype=float)\n",
    "b=a.astype(int)\n",
    "b.dtype"
   ]
  },
  {
   "cell_type": "code",
   "execution_count": 25,
   "metadata": {},
   "outputs": [
    {
     "name": "stdout",
     "output_type": "stream",
     "text": [
      "(array([3], dtype=int64),)\n"
     ]
    }
   ],
   "source": [
    "array1 = np.array([1, 2, 3, 4, 5])\n",
    "array2 = np.array([3, 5, 7, 4, 9])\n",
    "\n",
    "matching_positions = np.where(array1 == array2)\n",
    "\n",
    "print(matching_positions)"
   ]
  },
  {
   "cell_type": "code",
   "execution_count": 29,
   "metadata": {},
   "outputs": [
    {
     "data": {
      "text/plain": [
       "array([5., 5., 5., 5., 5.])"
      ]
     },
     "execution_count": 29,
     "metadata": {},
     "output_type": "execute_result"
    }
   ],
   "source": [
    "#7.\tMatrix Generation with one particular value\n",
    "a=np.ones(5)*5\n",
    "a"
   ]
  },
  {
   "cell_type": "code",
   "execution_count": 33,
   "metadata": {},
   "outputs": [
    {
     "data": {
      "text/plain": [
       "array([ 0, -1,  2, -1,  4])"
      ]
     },
     "execution_count": 33,
     "metadata": {},
     "output_type": "execute_result"
    }
   ],
   "source": [
    "#8.\tReplace all odd numbers in the given array with -1\n",
    "a=np.arange(0,5)\n",
    "for i in range(len(a)):\n",
    "    if a[i] % 2 !=0:\n",
    "        a[i]=-1\n",
    "a\n"
   ]
  },
  {
   "cell_type": "code",
   "execution_count": 35,
   "metadata": {},
   "outputs": [
    {
     "data": {
      "text/plain": [
       "(array([1, 3, 5, 7], dtype=int64),)"
      ]
     },
     "execution_count": 35,
     "metadata": {},
     "output_type": "execute_result"
    }
   ],
   "source": [
    "#9.\tGet the positions where elements of a and b match\n",
    "a=np.array([1,2,3,2,3,4,3,4,5,6])\n",
    "b=np.array([7,2,10,2,7,4,9,4,9,8])\n",
    "\n",
    "matching_positions = np.where(a == b)\n",
    "matching_positions\n"
   ]
  },
  {
   "cell_type": "code",
   "execution_count": null,
   "metadata": {},
   "outputs": [],
   "source": []
  }
 ],
 "metadata": {
  "kernelspec": {
   "display_name": "base",
   "language": "python",
   "name": "python3"
  },
  "language_info": {
   "codemirror_mode": {
    "name": "ipython",
    "version": 3
   },
   "file_extension": ".py",
   "mimetype": "text/x-python",
   "name": "python",
   "nbconvert_exporter": "python",
   "pygments_lexer": "ipython3",
   "version": "3.11.5"
  }
 },
 "nbformat": 4,
 "nbformat_minor": 2
}
